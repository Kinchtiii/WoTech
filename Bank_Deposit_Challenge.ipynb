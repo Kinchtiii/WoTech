{
  "nbformat": 4,
  "nbformat_minor": 0,
  "metadata": {
    "colab": {
      "provenance": [],
      "authorship_tag": "ABX9TyPc/so36axUAgM3Yti8BKOg",
      "include_colab_link": true
    },
    "kernelspec": {
      "name": "python3",
      "display_name": "Python 3"
    },
    "language_info": {
      "name": "python"
    }
  },
  "cells": [
    {
      "cell_type": "markdown",
      "metadata": {
        "id": "view-in-github",
        "colab_type": "text"
      },
      "source": [
        "<a href=\"https://colab.research.google.com/github/Kinchtiii/WoTech/blob/main/Bank_Deposit_Challenge.ipynb\" target=\"_parent\"><img src=\"https://colab.research.google.com/assets/colab-badge.svg\" alt=\"Open In Colab\"/></a>"
      ]
    },
    {
      "cell_type": "markdown",
      "source": [
        "**Comments:**\n",
        "\n",
        "I chose to complete the hard task, as the easy and meduin versions offered little to no challange and were quite easy to complete.\n",
        "\n",
        "The true challenge started when I realised I would have to make methods for deposit and withdrawal, as the user might want to jumsp from one to the other.\n",
        "\n",
        "Finding the right place to include checking the balance to ensure a withdrawal is possible, proved to be unfairly challenging.\n",
        "\n",
        "I also struggled a bit with cleaning up the messages to make sure the user is constantly updated about their current balance and offered to proceed with another deposit or withdrawal.\n",
        "\n",
        "I did also take advantage of ChatGPT, but to correct my code and to suggest improvements, one I already had an idea of how I want this code to work.\n",
        "\n",
        "The main improvements suggested by ChatGPT were:\n",
        "1. adding .strip().lower() to input, so that capitalization of words does not affect the result\n",
        "2. adjusting the naming input prompts and values for readability\n",
        "3. changing the placement of some of the input prompts for code clarity"
      ],
      "metadata": {
        "id": "1juZ6YDOcjJm"
      }
    },
    {
      "cell_type": "code",
      "source": [
        "balance = 0\n",
        "\n",
        "def deposit():\n",
        "  global balance\n",
        "\n",
        "  try:\n",
        "    deposit = float(input('Please state the amount you would like to deposit: '))\n",
        "    balance = balance + deposit\n",
        "    print(f'Thank you! Your current balance is {balance}')\n",
        "\n",
        "  except:\n",
        "    print('The amount not recognized. Please try again!')\n",
        "\n",
        "  while True:\n",
        "    print('If you would like to exit, please type \"exit\" ')\n",
        "    print('If you would like to withdraw money, please write \"withdraw\" ')\n",
        "    print('If you would like to proceed with another deposit, please write \"deposit\" ')\n",
        "\n",
        "    action = input().strip().lower()\n",
        "    if action == 'exit':\n",
        "      print(f'Thank you for choosing WoTech Python Bank!')\n",
        "      break\n",
        "    elif action == 'withdraw':\n",
        "      withdraw()\n",
        "      break\n",
        "    elif action == 'deposit':\n",
        "      try:\n",
        "        deposit = float(input('Please state the amount you would like to deposit: '))\n",
        "        balance = balance + deposit\n",
        "        print(f'Thank you! Your current balance is {balance} euros')\n",
        "      except:\n",
        "        print('The amount not recognized. Please try again!')\n",
        "    else:\n",
        "      print('The action not recognized. Please try again!')\n",
        "      break\n",
        "\n",
        "def withdraw():\n",
        "  global balance\n",
        "\n",
        "  try:\n",
        "    withdrawal = float(input('Please state the amount you would like to withdraw: '))\n",
        "    if withdrawal > balance:\n",
        "      print('Insufficient funds; the withdrawal cannot be made')\n",
        "      print(f'Your current balance is {balance} euros.')\n",
        "    else:\n",
        "      balance = balance - withdrawal\n",
        "      print(f'Thank you! Your current balance is {balance} euros')\n",
        "\n",
        "  except:\n",
        "    print('The amount not recognized. Please try again!')\n",
        "\n",
        "  while True:\n",
        "    print('If you would like to exit, please type \"exit\" ')\n",
        "    print('If you would like to deposit money, please write \"deposit\" ')\n",
        "    print('If you would like to proceed with another withdrawal, please write \"withdraw\" ')\n",
        "\n",
        "    action = input().strip().lower()\n",
        "    if action == 'exit':\n",
        "      print(f'Thank you for choosing WoTech Python Bank!')\n",
        "      break\n",
        "    elif action == 'deposit':\n",
        "      deposit()\n",
        "      break\n",
        "    elif action == 'withdraw':\n",
        "      try:\n",
        "        withdrawal = float(input('Please state the amount you would like to withdraw: '))\n",
        "        try:\n",
        "          balance = balance - withdrawal\n",
        "          if balance >= 0:\n",
        "            print(f'Thank you! Your current balance is {balance} euros')\n",
        "\n",
        "        except:\n",
        "          print('Insufficient funds; the withdrawal cannot be made')\n",
        "          print(f'Your current balance is {balance} euros')\n",
        "\n",
        "      except:\n",
        "        print('The amount not recognized. Please try again!')\n",
        "    else:\n",
        "      print('The action not recognized. Please try again!')\n",
        "      break\n",
        "\n",
        "print(f'Welcome to WoTech Python Bank!')\n",
        "print('If you would like to check your balance, please write \"balance\" ')\n",
        "print('If you would like to deposit money, please write \"deposit\" ')\n",
        "print('If you would like to withdraw money, please write \"withdraw\" ')\n",
        "\n",
        "action = input()\n",
        "\n",
        "if action == 'balance':\n",
        "  print(f'Your current balance is {balance} euros.')\n",
        "  print(f'Thank you for choosing WoTech Python Bank!')\n",
        "elif action == 'deposit':\n",
        "  deposit()\n",
        "elif action == 'withdraw':\n",
        "    withdraw()\n",
        "else:\n",
        "  print('The action not recognized. Please try again!')\n"
      ],
      "metadata": {
        "id": "qgGiX7kTr0f9"
      },
      "execution_count": null,
      "outputs": []
    },
    {
      "cell_type": "code",
      "source": [],
      "metadata": {
        "id": "R10P3pYe7gCK"
      },
      "execution_count": null,
      "outputs": []
    }
  ]
}